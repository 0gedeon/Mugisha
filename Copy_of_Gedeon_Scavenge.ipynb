{
  "cells": [
    {
      "cell_type": "markdown",
      "metadata": {
        "id": "view-in-github",
        "colab_type": "text"
      },
      "source": [
        "<a href=\"https://colab.research.google.com/github/0gedeon/Mugisha/blob/main/Copy_of_Gedeon_Scavenge.ipynb\" target=\"_parent\"><img src=\"https://colab.research.google.com/assets/colab-badge.svg\" alt=\"Open In Colab\"/></a>"
      ]
    },
    {
      "cell_type": "markdown",
      "id": "f3d308a0-0d3f-43d3-9dcf-68891e03ca65",
      "metadata": {
        "id": "f3d308a0-0d3f-43d3-9dcf-68891e03ca65"
      },
      "source": [
        "print(\"Welcome to the game\")"
      ]
    },
    {
      "cell_type": "code",
      "execution_count": null,
      "id": "c480210f-9bd5-473b-8f23-23212b8b9279",
      "metadata": {
        "id": "c480210f-9bd5-473b-8f23-23212b8b9279",
        "outputId": "ea199395-b063-46e2-e515-1a0e24d1f74d",
        "colab": {
          "base_uri": "https://localhost:8080/"
        }
      },
      "outputs": [
        {
          "output_type": "stream",
          "name": "stdout",
          "text": [
            "i didnt have time\n"
          ]
        }
      ],
      "source": [
        "print(\"i didnt have time\")"
      ]
    },
    {
      "cell_type": "markdown",
      "source": [
        "i didnt have enough time or a car to chekc out the place but i did what i can"
      ],
      "metadata": {
        "id": "EYw6UpRNOv7M"
      },
      "id": "EYw6UpRNOv7M"
    },
    {
      "cell_type": "markdown",
      "source": [
        "#1 attempt 3/11/2024\n",
        "\n",
        "I decoded all the clues one after the other through the colab page you gave us and entered them into my copy of the clue spreadsheet."
      ],
      "metadata": {
        "id": "u9QiShz5d_YL"
      },
      "id": "u9QiShz5d_YL"
    },
    {
      "cell_type": "code",
      "source": [
        "Graveyard = \"01001001 01100110 00100000 01111001 01101111 01110101 00100000 01100011 01100001 01110100 01100011 01101000 00100000 01000010 01110101 01110011 00100000 01001110 01101111 00101110 00110010 00100000 01101001 01110100 00100000 01110111 01101001 01101100 01101100 00100000 01100010 01110010 01101001 01101110 01100111 00100000 01111001 01101111 01110101 00100000 01110100 01101111 00100000 01100001 01101110 00100000 01000101 01110100 01101000 01100001 01101110 00100000 01000001 01101100 01101100 01100101 01101110 00100000 01010011 01110100 01100001 01110100 01110101 01100101\"\n",
        "bytes_list = Graveyard.split()\n",
        "Graveyarded = ''.join(chr(int(byte, 2)) for byte in bytes_list)\n",
        "print(Graveyarded)"
      ],
      "metadata": {
        "colab": {
          "base_uri": "https://localhost:8080/"
        },
        "id": "FZuE7ek9fzLP",
        "outputId": "0a8a4ab7-b34c-4b10-b0f8-6550b2001b61"
      },
      "id": "FZuE7ek9fzLP",
      "execution_count": null,
      "outputs": [
        {
          "output_type": "stream",
          "name": "stdout",
          "text": [
            "If you catch Bus No.2 it will bring you to an Ethan Allen Statue\n"
          ]
        }
      ]
    },
    {
      "cell_type": "markdown",
      "source": [
        "i choice to drive there\n",
        "\n",
        "i made it but i had to leave because it was to cold and windy\n",
        " and i realized i forgot to take a picture"
      ],
      "metadata": {
        "id": "L1VuDbLNjS0v"
      },
      "id": "L1VuDbLNjS0v"
    },
    {
      "cell_type": "code",
      "source": [
        "trash = \"34342e3438383938312c202d37332e313831353139\"\n",
        "trash= \"\".join([chr(int(trash[i:i+2], 16)) for i in range(0, len(trash), 2)])\n",
        "\n",
        "print(trash)\n",
        "print(please keep the area clean)"
      ],
      "metadata": {
        "colab": {
          "base_uri": "https://localhost:8080/"
        },
        "id": "nvuTMPaKoCgv",
        "outputId": "70d3608d-7fd9-4e22-c824-277ff8646d8d"
      },
      "id": "nvuTMPaKoCgv",
      "execution_count": null,
      "outputs": [
        {
          "output_type": "stream",
          "name": "stdout",
          "text": [
            "44.488981, -73.181519\n",
            "please keep the area clean\n"
          ]
        }
      ]
    },
    {
      "cell_type": "markdown",
      "source": [
        "The river was pretty amazing and the field was pretty nice i forgot to take picture becasue i was in a rush"
      ],
      "metadata": {
        "id": "vi90CAgEtu8G"
      },
      "id": "vi90CAgEtu8G"
    },
    {
      "cell_type": "code",
      "source": [
        "Howes_closeandcold = \"476f20746f20486f7765204c69627261727920616e64206865616420746f2074686520737461636b73206f6e207468652033726420466c6f6f7220746f2066696e64206f6e65206f662074686520666f6c6c6f77696e6720626f6f6b7320514137362e4d32313435332032303132206f7220514132392e54384135372032303135206f7220514131302e372e4a36372032303232206f7220513333352e4438372032303139206f7220514137362e392e4c36334d333420323031392e205768617420697320746865205469746c65206f66207468697320626f6f6b3f20446f6e277420707574206974206261636b206272696e6720697420746f20746865206c696272617269616e\"\n",
        "Howes_closeandcold= \"\".join([chr(int(Howes_closeandcold[i:i+2], 16)) for i in range(0, len(Howes_closeandcold), 2)])\n",
        "\n",
        "print(Howes_closeandcold)\n",
        "print(\"didnt have enough time to cold \")"
      ],
      "metadata": {
        "colab": {
          "base_uri": "https://localhost:8080/"
        },
        "id": "GvsGSpL9wR1x",
        "outputId": "5c0336d0-c92e-4f61-e836-1e1d0c0f549e"
      },
      "id": "GvsGSpL9wR1x",
      "execution_count": null,
      "outputs": [
        {
          "output_type": "stream",
          "name": "stdout",
          "text": [
            "Go to Howe Library and head to the stacks on the 3rd Floor to find one of the following books QA76.M21453 2012 or QA29.T8A57 2015 or QA10.7.J67 2022 or Q335.D87 2019 or QA76.9.L63M34 2019. What is the Title of this book? Don't put it back bring it to the librarian\n",
            "didnt have enough time to cold \n"
          ]
        }
      ]
    },
    {
      "cell_type": "markdown",
      "source": [
        "Honestly, I've never been to the Howe Library before but my first time going there was weird i twas closed and it was cold outside and i had to walk back to my car. i didnt take picture because i didnt think of it."
      ],
      "metadata": {
        "id": "aIrpTrB_xXEq"
      },
      "id": "aIrpTrB_xXEq"
    },
    {
      "cell_type": "markdown",
      "source": [
        "# 2 attempt  3/11/2024\n",
        "\n",
        "\n",
        "\n"
      ],
      "metadata": {
        "id": "pMIe5wpDx3p3"
      },
      "id": "pMIe5wpDx3p3"
    },
    {
      "cell_type": "markdown",
      "source": [
        "i didnt know that the museum i was closed on Monday so i didnt get to go i was a bit busy all week also"
      ],
      "metadata": {
        "id": "XOfLpqJe2Vca"
      },
      "id": "XOfLpqJe2Vca"
    },
    {
      "cell_type": "code",
      "source": [
        "neverspokeagain = \"01010110 01101001 01110011 01101001 01110100 00100000 01001110 01100101 01110110 01100101 01110010 00100000 01010011 01110000 01101111 01101011 01100101 01101110 00100000 01000001 01100111 01100001 01101001 01101110 00111010 00100000 01010010 01101111 01100111 01110101 01100101 00100000 01010011 01110100 01101111 01110010 01101001 01100101 01110011 00100000 01101111 01100110 00100000 01010011 01100011 01101001 01100101 01101110 01100011 01100101 00100000 01100001 01101110 01100100 00100000 01000011 01101111 01101100 01101100 01100101 01100011 01110100 01101001 01101111 01101110 01110011 00100000 01100001 01110100 00100000 01110100 01101000 01100101 00100000 01000110 01101100 01100101 01110100 01100011 01101000 01100101 01110100 00100000 01100001 01101110 01100100 00100000 01100100 01101111 01100011 01110101 01101101 01100101 01101110 01110100 00100000 01110111 01101000 01101001 01100011 01101000 00100000 01110000 01101001 01100101 01100011 01100101 01110011 00100000 01100011 01100001 01110101 01100111 01101000 01110100 00100000 01111001 01101111 01110101 01110010 00100000 01100001 01110100 01110100 01100101 01101110 01110100 01101001 01101111 01101110 00101110\"\n",
        "bytes_list = neverspokeagain.split()\n",
        "neverspokeagain = ''.join(chr(int(byte, 2)) for byte in bytes_list)\n",
        "print(neverspokeagain)\n",
        "print(\" i checked on google and it showed me that it was closed so i didnt go there\")"
      ],
      "metadata": {
        "colab": {
          "base_uri": "https://localhost:8080/"
        },
        "id": "LYxSexMD3HuT",
        "outputId": "730d6e27-5b5b-47f7-d875-2c96fd4751be"
      },
      "id": "LYxSexMD3HuT",
      "execution_count": null,
      "outputs": [
        {
          "output_type": "stream",
          "name": "stdout",
          "text": [
            "Visit Never Spoken Again: Rogue Stories of Science and Collections at the Fletchet and document which pieces caught your attention.\n",
            " i checked on google and it showed me that it was closed so i didnt go there\n"
          ]
        }
      ]
    },
    {
      "cell_type": "code",
      "source": [
        "Howes_wasclosed = \"476f20746f20486f7765204c69627261727920616e64206865616420746f2074686520737461636b73206f6e207468652033726420466c6f6f7220746f2066696e64206f6e65206f662074686520666f6c6c6f77696e6720626f6f6b7320514137362e4d32313435332032303132206f7220514132392e54384135372032303135206f7220514131302e372e4a36372032303232206f7220513333352e4438372032303139206f7220514137362e392e4c36334d333420323031392e205768617420697320746865205469746c65206f66207468697320626f6f6b3f20446f6e277420707574206974206261636b206272696e6720697420746f20746865206c696272617269616e\"\n",
        "Howes_wascold= \"\".join([chr(int(Howes_wasclosed[i:i+2], 16)) for i in range(0, len(Howes_wasclosed), 2)])\n",
        "\n",
        "print(Howes_wascold)"
      ],
      "metadata": {
        "colab": {
          "base_uri": "https://localhost:8080/"
        },
        "id": "XfbT-xDM5Tdm",
        "outputId": "4ab3e9ee-e04b-45b0-e3bd-e6a337407d2d"
      },
      "id": "XfbT-xDM5Tdm",
      "execution_count": null,
      "outputs": [
        {
          "output_type": "stream",
          "name": "stdout",
          "text": [
            "Go to Howe Library and head to the stacks on the 3rd Floor to find one of the following books QA76.M21453 2012 or QA29.T8A57 2015 or QA10.7.J67 2022 or Q335.D87 2019 or QA76.9.L63M34 2019. What is the Title of this book? Don't put it back bring it to the librarian\n"
          ]
        }
      ]
    },
    {
      "cell_type": "markdown",
      "source": [
        "so on the date of 2/29/2024 i did go to the librray i didnt find the books i even had to ask one of the student but still couldnt find the books so i left with nothing."
      ],
      "metadata": {
        "id": "WU9zGo406D53"
      },
      "id": "WU9zGo406D53"
    },
    {
      "cell_type": "code",
      "source": [
        "howes_rarecollect = \"53656c65637420616e206974656d2066726f6d20746865205261726520426f6f6b20436f6c6c656374696f6e7320617420486f7765204c6962726172792068747470733a2f2f7370656369616c636f6c6c656374696f6e732e75766d2e6564752f636f6c6c656374696f6e732f726172655f626f6f6b7320616e6420646f63756d656e742074686520636f6c6c656374696f6e20796f752063686f6f736520776974682070686f746f7320616e6420612073686f72742077726974652d75702e\"\n",
        "Howes_online= \"\".join([chr(int(howes_rarecollect[i:i+2], 16)) for i in range(0, len(howes_rarecollect), 2)])\n",
        "\n",
        "print(Howes_online)"
      ],
      "metadata": {
        "colab": {
          "base_uri": "https://localhost:8080/"
        },
        "id": "IM-nRWRz8N8x",
        "outputId": "d2482b38-dbf3-45a4-bf7f-401dd99ef904"
      },
      "id": "IM-nRWRz8N8x",
      "execution_count": null,
      "outputs": [
        {
          "output_type": "stream",
          "name": "stdout",
          "text": [
            "Select an item from the Rare Book Collections at Howe Library https://specialcollections.uvm.edu/collections/rare_books and document the collection you choose with photos and a short write-up.\n"
          ]
        }
      ]
    },
    {
      "cell_type": "markdown",
      "source": [
        "As to my rare book collection, I decided upon the <George Perkins Marsh Library> Collection\n",
        "\n",
        "George Perkins Marsh, an early environmentalist, left a lasting impact through his writings and diplomatic service, advocating for the responsible stewardship of our planet."
      ],
      "metadata": {
        "id": "-TBMrAbs9NR5"
      },
      "id": "-TBMrAbs9NR5"
    },
    {
      "cell_type": "code",
      "source": [
        "ascii_str = \"please keep the area clean\"\n",
        "hex_str = \"\".join([hex(ord(c)).replace(\"0x\", \"\") for c in ascii_str])\n",
        "print(\"please keep the area clean=\", hex_str)\n",
        "\n",
        "ascii_str1 = \"Ethan Allen Statue\"\n",
        "hex_str1 = \"\".join([hex(ord(c)).replace(\"0x\", \"\") for c in ascii_str1])\n",
        "print(\"Ethan Allen Statue =\", hex_str1)\n",
        "\n",
        "ascii_str2 = \"Howe Library -didnt have enough time to cold\"\n",
        "hex_str2 = \"\".join([hex(ord(c)).replace(\"0x\", \"\") for c in ascii_str2])\n",
        "print(\"Howe Library - didnt have enough time to cold =\", hex_str2)\n",
        "\n",
        "ascii_str3 = \"missed it \"\n",
        "hex_str3 = \"\".join([hex(ord(c)).replace(\"0x\", \"\") for c in ascii_str3])\n",
        "print(\"missed it  =\", hex_str3)\n",
        "\n",
        "ascii_str4 = \"George Perkins Marsh\"\n",
        "hex_str4 = \"\".join([hex(ord(c)).replace(\"0x\", \"\") for c in ascii_str4])\n",
        "print(\"George Perkins Marsh =\", hex_str4)\n",
        "\n",
        "\n"
      ],
      "metadata": {
        "colab": {
          "base_uri": "https://localhost:8080/"
        },
        "id": "YPwv2rtlULoz",
        "outputId": "cecd9b7b-4151-432a-a436-f3b178c87508"
      },
      "id": "YPwv2rtlULoz",
      "execution_count": null,
      "outputs": [
        {
          "output_type": "stream",
          "name": "stdout",
          "text": [
            "please keep the area clean= 706c65617365206b65657020746865206172656120636c65616e\n",
            "Ethan Allen Statue = 457468616e20416c6c656e20537461747565\n",
            "Howe Library - didnt have enough time to cold = 486f7765204c696272617279202d6469646e74206861766520656e6f7567682074696d6520746f20636f6c64\n",
            "missed it  = 6d697373656420697420\n",
            "George Perkins Marsh = 47656f726765205065726b696e73204d61727368\n"
          ]
        }
      ]
    },
    {
      "cell_type": "code",
      "source": [
        "text = \"44.488981, -73.181519\"\n",
        "binary_representation = ' '.join(format(ord(char), '08b') for char in text)\n",
        "print(\"keep the area clean =\", binary_representation)\n",
        "\n",
        "text1 = \"44.484288, -73.187149\"\n",
        "binary_representation1 = ' '.join(format(ord(char), '08b') for char in text1)\n",
        "print(\"Ethan Allen Statue =\", binary_representation1)\n",
        "\n",
        "text2 = \"44.477268, -73.196352\"\n",
        "binary_representation2 = ' '.join(format(ord(char), '08b') for char in text2)\n",
        "print(\"Howe Library - didnt have time or it was to cold or closed =\", binary_representation2)\n",
        "\n",
        "print(\" missed it or couldnt find it.\")\n",
        "\n",
        "text4 = \"44.479985, -73.19699\"\n",
        "binary_representation4 = ' '.join(format(ord(char), '08b') for char in text4)\n",
        "print(\"George Perkinds marsh =\", binary_representation4)"
      ],
      "metadata": {
        "colab": {
          "base_uri": "https://localhost:8080/"
        },
        "id": "yTB9hVOEX1qp",
        "outputId": "0aa5075f-3879-4251-9fec-87145ccc7e21"
      },
      "id": "yTB9hVOEX1qp",
      "execution_count": null,
      "outputs": [
        {
          "output_type": "stream",
          "name": "stdout",
          "text": [
            "keep the area clean = 00110100 00110100 00101110 00110100 00111000 00111000 00111001 00111000 00110001 00101100 00100000 00101101 00110111 00110011 00101110 00110001 00111000 00110001 00110101 00110001 00111001\n",
            "Ethan Allen Statue = 00110100 00110100 00101110 00110100 00111000 00110100 00110010 00111000 00111000 00101100 00100000 00101101 00110111 00110011 00101110 00110001 00111000 00110111 00110001 00110100 00111001\n",
            "Howe Library - didnt have time or it was to cold or closed = 00110100 00110100 00101110 00110100 00110111 00110111 00110010 00110110 00111000 00101100 00100000 00101101 00110111 00110011 00101110 00110001 00111001 00110110 00110011 00110101 00110010\n",
            " missed it or couldnt find it.\n",
            "George Perkinds marsh = 00110100 00110100 00101110 00110100 00110111 00111001 00111001 00111000 00110101 00101100 00100000 00101101 00110111 00110011 00101110 00110001 00111001 00110110 00111001 00111001\n"
          ]
        }
      ]
    }
  ],
  "metadata": {
    "kernelspec": {
      "display_name": "Python 3 (ipykernel)",
      "language": "python",
      "name": "python3"
    },
    "language_info": {
      "codemirror_mode": {
        "name": "ipython",
        "version": 3
      },
      "file_extension": ".py",
      "mimetype": "text/x-python",
      "name": "python",
      "nbconvert_exporter": "python",
      "pygments_lexer": "ipython3",
      "version": "3.12.2"
    },
    "colab": {
      "provenance": [],
      "include_colab_link": true
    }
  },
  "nbformat": 4,
  "nbformat_minor": 5
}